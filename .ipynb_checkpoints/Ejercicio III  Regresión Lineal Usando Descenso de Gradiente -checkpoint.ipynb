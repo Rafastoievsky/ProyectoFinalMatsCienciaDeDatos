{
 "cells": [
  {
   "cell_type": "markdown",
   "metadata": {},
   "source": [
    "# Ejercicio III. Regresión Lineal usando Descenso de Gradiente - Trabajo Final Matemáticas para Ciencia de Datos\n",
    "\n",
    "----------------------------\n",
    "\n",
    "## **Universidad de Sonora**\n",
    "\n",
    "### **Maestría en Ciencia de Datos**\n",
    "\n",
    "----------------------------\n",
    "\n",
    "Profesora: **Dra. Olivia Gutú**\n",
    "\n",
    "----------------------------\n",
    "\n",
    "Author: **Luis Rafael Arce Rivera**\n",
    "\n",
    "----------------------------\n",
    "Fecha: **2020-11-28**"
   ]
  },
  {
   "cell_type": "markdown",
   "metadata": {},
   "source": [
    "Importando Librerias a Utilizar"
   ]
  },
  {
   "cell_type": "code",
   "execution_count": 8,
   "metadata": {},
   "outputs": [],
   "source": [
    "import matplotlib.pyplot as plt\n",
    "import pandas as pd\n",
    "import numpy as np\n",
    "import seaborn as sns\n",
    "%matplotlib inline\n",
    "plt.rcParams['figure.figsize'] = (12, 10)\n",
    "plt.style.use('fivethirtyeight')"
   ]
  },
  {
   "cell_type": "markdown",
   "metadata": {},
   "source": [
    "Aplícalo a algún conjunto de datos que quieras en una libreta de Jupyter explicando cada paso de manera cuidadosa. \n",
    "\n",
    "Fuente de Datos https://www.pro-football-reference.com/years/2020/\n",
    "\n",
    "Datos de Defensiva contra pase de equipos de la NFL (Liga profesional de Futbol Amricano)"
   ]
  },
  {
   "cell_type": "code",
   "execution_count": 9,
   "metadata": {},
   "outputs": [
    {
     "data": {
      "text/html": [
       "<div>\n",
       "<style scoped>\n",
       "    .dataframe tbody tr th:only-of-type {\n",
       "        vertical-align: middle;\n",
       "    }\n",
       "\n",
       "    .dataframe tbody tr th {\n",
       "        vertical-align: top;\n",
       "    }\n",
       "\n",
       "    .dataframe thead th {\n",
       "        text-align: right;\n",
       "    }\n",
       "</style>\n",
       "<table border=\"1\" class=\"dataframe\">\n",
       "  <thead>\n",
       "    <tr style=\"text-align: right;\">\n",
       "      <th></th>\n",
       "      <th>Tm</th>\n",
       "      <th>G</th>\n",
       "      <th>Cmp</th>\n",
       "      <th>Att</th>\n",
       "      <th>Cmp%</th>\n",
       "      <th>Yds</th>\n",
       "      <th>TD</th>\n",
       "      <th>TD%</th>\n",
       "      <th>Int</th>\n",
       "      <th>PD</th>\n",
       "      <th>...</th>\n",
       "      <th>Y/G</th>\n",
       "      <th>Rate</th>\n",
       "      <th>Sk</th>\n",
       "      <th>Yds.1</th>\n",
       "      <th>QBHits</th>\n",
       "      <th>TFL</th>\n",
       "      <th>NY/A</th>\n",
       "      <th>ANY/A</th>\n",
       "      <th>Sk%</th>\n",
       "      <th>EXP</th>\n",
       "    </tr>\n",
       "  </thead>\n",
       "  <tbody>\n",
       "    <tr>\n",
       "      <th>0</th>\n",
       "      <td>Arizona Cardinals</td>\n",
       "      <td>9</td>\n",
       "      <td>224</td>\n",
       "      <td>349</td>\n",
       "      <td>64.2</td>\n",
       "      <td>2248</td>\n",
       "      <td>17</td>\n",
       "      <td>4.9</td>\n",
       "      <td>8</td>\n",
       "      <td>33</td>\n",
       "      <td>...</td>\n",
       "      <td>249.8</td>\n",
       "      <td>91.2</td>\n",
       "      <td>22</td>\n",
       "      <td>173</td>\n",
       "      <td>53</td>\n",
       "      <td>48</td>\n",
       "      <td>6.1</td>\n",
       "      <td>6.0</td>\n",
       "      <td>5.9</td>\n",
       "      <td>-49.83</td>\n",
       "    </tr>\n",
       "    <tr>\n",
       "      <th>1</th>\n",
       "      <td>Atlanta Falcons</td>\n",
       "      <td>9</td>\n",
       "      <td>238</td>\n",
       "      <td>351</td>\n",
       "      <td>67.8</td>\n",
       "      <td>2793</td>\n",
       "      <td>22</td>\n",
       "      <td>6.3</td>\n",
       "      <td>7</td>\n",
       "      <td>33</td>\n",
       "      <td>...</td>\n",
       "      <td>310.3</td>\n",
       "      <td>105.6</td>\n",
       "      <td>14</td>\n",
       "      <td>110</td>\n",
       "      <td>58</td>\n",
       "      <td>41</td>\n",
       "      <td>7.7</td>\n",
       "      <td>8.0</td>\n",
       "      <td>3.8</td>\n",
       "      <td>-126.64</td>\n",
       "    </tr>\n",
       "    <tr>\n",
       "      <th>2</th>\n",
       "      <td>Baltimore Ravens</td>\n",
       "      <td>9</td>\n",
       "      <td>209</td>\n",
       "      <td>326</td>\n",
       "      <td>64.1</td>\n",
       "      <td>1920</td>\n",
       "      <td>12</td>\n",
       "      <td>3.7</td>\n",
       "      <td>4</td>\n",
       "      <td>32</td>\n",
       "      <td>...</td>\n",
       "      <td>213.3</td>\n",
       "      <td>89.6</td>\n",
       "      <td>25</td>\n",
       "      <td>190</td>\n",
       "      <td>74</td>\n",
       "      <td>41</td>\n",
       "      <td>5.5</td>\n",
       "      <td>5.6</td>\n",
       "      <td>7.1</td>\n",
       "      <td>-21.20</td>\n",
       "    </tr>\n",
       "    <tr>\n",
       "      <th>3</th>\n",
       "      <td>Buffalo Bills</td>\n",
       "      <td>10</td>\n",
       "      <td>226</td>\n",
       "      <td>333</td>\n",
       "      <td>67.9</td>\n",
       "      <td>2387</td>\n",
       "      <td>15</td>\n",
       "      <td>4.5</td>\n",
       "      <td>7</td>\n",
       "      <td>39</td>\n",
       "      <td>...</td>\n",
       "      <td>238.7</td>\n",
       "      <td>96.5</td>\n",
       "      <td>27</td>\n",
       "      <td>137</td>\n",
       "      <td>59</td>\n",
       "      <td>46</td>\n",
       "      <td>6.6</td>\n",
       "      <td>6.6</td>\n",
       "      <td>7.5</td>\n",
       "      <td>-70.70</td>\n",
       "    </tr>\n",
       "    <tr>\n",
       "      <th>4</th>\n",
       "      <td>Carolina Panthers</td>\n",
       "      <td>10</td>\n",
       "      <td>257</td>\n",
       "      <td>372</td>\n",
       "      <td>69.1</td>\n",
       "      <td>2555</td>\n",
       "      <td>16</td>\n",
       "      <td>4.3</td>\n",
       "      <td>5</td>\n",
       "      <td>37</td>\n",
       "      <td>...</td>\n",
       "      <td>255.5</td>\n",
       "      <td>97.8</td>\n",
       "      <td>11</td>\n",
       "      <td>69</td>\n",
       "      <td>47</td>\n",
       "      <td>33</td>\n",
       "      <td>6.7</td>\n",
       "      <td>6.9</td>\n",
       "      <td>2.9</td>\n",
       "      <td>-109.36</td>\n",
       "    </tr>\n",
       "  </tbody>\n",
       "</table>\n",
       "<p>5 rows × 24 columns</p>\n",
       "</div>"
      ],
      "text/plain": [
       "                  Tm   G  Cmp  Att  Cmp%   Yds  TD  TD%  Int  PD  ...    Y/G  \\\n",
       "0  Arizona Cardinals   9  224  349  64.2  2248  17  4.9    8  33  ...  249.8   \n",
       "1    Atlanta Falcons   9  238  351  67.8  2793  22  6.3    7  33  ...  310.3   \n",
       "2   Baltimore Ravens   9  209  326  64.1  1920  12  3.7    4  32  ...  213.3   \n",
       "3      Buffalo Bills  10  226  333  67.9  2387  15  4.5    7  39  ...  238.7   \n",
       "4  Carolina Panthers  10  257  372  69.1  2555  16  4.3    5  37  ...  255.5   \n",
       "\n",
       "    Rate  Sk  Yds.1  QBHits  TFL  NY/A  ANY/A  Sk%     EXP  \n",
       "0   91.2  22    173      53   48   6.1    6.0  5.9  -49.83  \n",
       "1  105.6  14    110      58   41   7.7    8.0  3.8 -126.64  \n",
       "2   89.6  25    190      74   41   5.5    5.6  7.1  -21.20  \n",
       "3   96.5  27    137      59   46   6.6    6.6  7.5  -70.70  \n",
       "4   97.8  11     69      47   33   6.7    6.9  2.9 -109.36  \n",
       "\n",
       "[5 rows x 24 columns]"
      ]
     },
     "execution_count": 9,
     "metadata": {},
     "output_type": "execute_result"
    }
   ],
   "source": [
    "data = './data/defensivaPase2020.csv'\n",
    "df = pd.read_csv(data)\n",
    "df.head()"
   ]
  },
  {
   "cell_type": "code",
   "execution_count": 10,
   "metadata": {},
   "outputs": [
    {
     "data": {
      "text/plain": [
       "(32, 24)"
      ]
     },
     "execution_count": 10,
     "metadata": {},
     "output_type": "execute_result"
    }
   ],
   "source": [
    "df.shape"
   ]
  },
  {
   "cell_type": "markdown",
   "metadata": {},
   "source": [
    "Informacion de attributos \n",
    "\n",
    "    G -- Games played\n",
    "    Cmp -- Passes completed\n",
    "    Att -- Passes attempted\n",
    "    Cmp% -- Percentage of Passes Completed\n",
    "    Yds -- Yards Gained by Passing\n",
    "    TD -- Passing Touchdowns\n",
    "    TD% -- Percentage of Touchdowns Thrown when Attempting to Pass\n",
    "    Int -- Interceptions thrown\n",
    "    PD -- Passes defended by a defensive player\n",
    "    Int% -- Percentage of Times Intercepted when Attempting to Pass\n",
    "    Y/A -- Yards gained per pass attempt\n",
    "    AY/A -- Adjusted Yards gained per pass attempt (Passing Yards + 20 * Passing TD - 45 * Interceptions) / (Passes Attempted)\n",
    "    Y/C -- Yards gained per pass completion (Passing Yards) / (Passes Completed)\n",
    "    Y/G -- Yards gained per game played\n",
    "    Rate -- Quarterback Rating\n",
    "    Sk -- Times Sacked\n",
    "    Yds -- Yards lost due to sacks\n",
    "    QBHits -- Quarterback hits\n",
    "    TFL -- Tackles For Loss\n",
    "    NY/A -- Net Yards gained per pass attempt (Passing Yards - Sack Yards) / (Passes Attempted + Times Sacked)\n",
    "    ANY/A -- Adjusted Net Yards per Pass Attempt (Passing Yards - Sack Yards + (20 * Passing TD) - (45 * Interceptions)) / (Passes Attempted + Times Sacked)\n",
    "    Sk% -- Percentage of Time Sacked when Attempting to Pass: Times Sacked / (Passes Attempted + Times Sacked)\n",
    "    EXP -- Expected points contributed by passing defense"
   ]
  },
  {
   "cell_type": "markdown",
   "metadata": {},
   "source": [
    "### Seleccion de atributo (columnas) 'QBHits', y busco correlación con el resto de los atributos"
   ]
  },
  {
   "cell_type": "code",
   "execution_count": 11,
   "metadata": {},
   "outputs": [
    {
     "data": {
      "text/plain": [
       "G         0.212143\n",
       "Cmp       0.096670\n",
       "Att       0.267864\n",
       "Cmp%     -0.322807\n",
       "Yds      -0.137087\n",
       "TD       -0.272983\n",
       "TD%      -0.406565\n",
       "Int       0.252421\n",
       "PD        0.300108\n",
       "Int%      0.134836\n",
       "Y/A      -0.384310\n",
       "AY/A     -0.457846\n",
       "Y/C      -0.187586\n",
       "Y/G      -0.205891\n",
       "Rate     -0.476524\n",
       "Sk        0.766714\n",
       "Yds.1     0.752351\n",
       "QBHits    1.000000\n",
       "TFL       0.745389\n",
       "NY/A     -0.556949\n",
       "ANY/A    -0.573848\n",
       "Sk%       0.652807\n",
       "EXP       0.509068\n",
       "Name: QBHits, dtype: float64"
      ]
     },
     "execution_count": 11,
     "metadata": {},
     "output_type": "execute_result"
    }
   ],
   "source": [
    "df.corr()['QBHits']"
   ]
  },
  {
   "cell_type": "markdown",
   "metadata": {},
   "source": [
    "### Selecciono el atributo SK para graficarlo con 'QBHits'"
   ]
  },
  {
   "cell_type": "code",
   "execution_count": 12,
   "metadata": {},
   "outputs": [
    {
     "data": {
      "image/png": "[encoded data removed]",
      "text/plain": [
       "<Figure size 864x720 with 1 Axes>"
      ]
     },
     "metadata": {},
     "output_type": "display_data"
    }
   ],
   "source": [
    "X = df[\"QBHits\"]\n",
    "Y = df[\"Sk\"]\n",
    "plt.scatter(X, Y)\n",
    "plt.show()"
   ]
  },
  {
   "cell_type": "markdown",
   "metadata": {},
   "source": [
    "El descenso de gradiente es un método de optimización, que generalmente se untiliza para minimizar una función de perdidas, es decir la función que que define el error de un modelo."
   ]
  },
  {
   "cell_type": "code",
   "execution_count": 13,
   "metadata": {},
   "outputs": [],
   "source": [
    "# tenemos como objetivo encontrar un conjunto de valores que minimicen el error.\n",
    "\n",
    "# aprovechando el poder computacional en lugar de tener que intentar manualmente resolver la derivada\n",
    "\n",
    "def RegLinDesGrad(X, y):\n",
    "    m = 0\n",
    "    c = 0\n",
    "    lr= 0.0001 #peso o fuerza con el que M y C minimizaran el error\n",
    "    ints = 1000 #interacciones a realizar\n",
    "    n = X.shape[0] #con esto conocemos la cantidad de puntos (datos) con los que contamos\n",
    "    \n",
    "    \n",
    "    for i in range(ints): \n",
    "        Y_pred = m*X + c #formula de la prediccion\n",
    "        error = y-Y_pred # el error es los datos actuales de y menos y-prediccion\n",
    "        c_gradient = (-2/n) * sum(error) #gradiente con respecto a c\n",
    "        m_gradient = (-2/n) * sum(X*(error)) #gradiente con respecto a m\n",
    "        c = c - (lr * c_gradient) # con esto calcularemos que tanto cambia c con rescto al original\n",
    "        m = m - (lr * m_gradient) # con esto calcularemos que tanto cambia m con rescto al original\n",
    "\n",
    "    return m,c \n",
    "\n",
    "#funcion para obtener los datos de la linea de predicción de Y, con respecto a X y los ajustes obtenidos M y C\n",
    "def predict(m,c,X):\n",
    "    return m*X + c\n",
    "    "
   ]
  },
  {
   "cell_type": "code",
   "execution_count": 14,
   "metadata": {},
   "outputs": [
    {
     "name": "stdout",
     "output_type": "stream",
     "text": [
      "(0.3858305567411887, -0.0024118726743805044)\n"
     ]
    }
   ],
   "source": [
    "X = df[\"QBHits\"]\n",
    "y = df[\"Sk\"]\n",
    "#ejecutando funcion\n",
    "ajustes = RegLinDesGrad(X, y)\n",
    "#conociendo M y C\n",
    "print(ajustes)\n",
    "m = ajustes[0]\n",
    "c = ajustes[1]\n",
    "\n",
    "#ejecutando funcion para la prediccion, generando datos de linea\n",
    "pred = predict(m,c, X)\n"
   ]
  },
  {
   "cell_type": "code",
   "execution_count": 15,
   "metadata": {},
   "outputs": [
    {
     "data": {
      "text/plain": [
       "Text(0.5, 1.0, 'Regresión Lineal Usando Descendiente de Gradiente')"
      ]
     },
     "execution_count": 15,
     "metadata": {},
     "output_type": "execute_result"
    },
    {
     "data": {
      "image/png": "[encoded data removed]",
      "text/plain": [
       "<Figure size 864x720 with 1 Axes>"
      ]
     },
     "metadata": {},
     "output_type": "display_data"
    }
   ],
   "source": [
    "plt.scatter(X, y, color='black')# graficando los datos de color negro\n",
    "plt.plot(X, predict(m,c, X))# graficando la linea de prediccion, de color azul\n",
    "plt.gca().set_title(\"Regresión Lineal Usando Descendiente de Gradiente\")"
   ]
  },
  {
   "cell_type": "markdown",
   "metadata": {},
   "source": [
    "### Extra: Teóricamente, este problema de regresión lineal se puede resolver usando únicamente álgebra lineal (pero no es muy eficiente computacionalmente). ¿Podrías explicar cómo?\n",
    "\n",
    "Resolver este problema con algebra lineal es poco eficiente porque implica multiplicación de matrices, que es algo lento a medida que aumente el número de variables, es posible resolver el problema por medio de SVD o por factorizacion QR, con los cuales se pueden obtener muy buenos resultados pero es algo lento.\n"
   ]
  },
  {
   "cell_type": "markdown",
   "metadata": {},
   "source": [
    "### Resolviendo el problema con: QR Decomposition\n",
    "\n",
    "QR decomposition es un método popular para resolver la ecuación de mínimos cuadrados lineales.\n",
    "\n",
    "\n",
    "fuentes: \n",
    "\n",
    "    1. https://machinelearningmastery.com/solve-linear-regression-using-linear-algebra/\n",
    "    2. https://www.johndcook.com/blog/2018/05/05/svd/\n",
    "    3. https://machinelearningmastery.com/singular-value-decomposition-for-machine-learning/"
   ]
  },
  {
   "cell_type": "code",
   "execution_count": 16,
   "metadata": {},
   "outputs": [],
   "source": [
    "from numpy.linalg import inv\n",
    "from numpy.linalg import qr\n",
    "data = df[[\"QBHits\", 'Sk']].values\n",
    "X, y = data[:,0], data[:,1]\n",
    "X = X.reshape((len(X), 1))\n"
   ]
  },
  {
   "cell_type": "code",
   "execution_count": 17,
   "metadata": {},
   "outputs": [
    {
     "name": "stdout",
     "output_type": "stream",
     "text": [
      "[0.3857874]\n"
     ]
    }
   ],
   "source": [
    "# QR decomposition se puede encontrar usando la función qr () en NumPy.\n",
    "Q, R = qr(X)\n",
    "b = inv(R).dot(Q.T).dot(y)\n",
    "print(b)"
   ]
  },
  {
   "cell_type": "code",
   "execution_count": 18,
   "metadata": {},
   "outputs": [
    {
     "name": "stdout",
     "output_type": "stream",
     "text": [
      "[20.44673246 22.37566949 28.54826797 22.76145689 18.13200803 20.44673246\n",
      " 15.8172836  14.65992139 15.4314962  20.83251987 15.4314962  14.65992139\n",
      " 14.65992139 18.13200803 16.20307101 20.83251987 15.8172836  17.74622063\n",
      " 22.76145689 23.91881911 19.28937025 13.50255917 22.76145689 27.39090575\n",
      " 13.50255917 28.54826797 35.49244126 17.36043322 21.60409468 28.16248056\n",
      " 18.13200803 18.13200803]\n"
     ]
    }
   ],
   "source": [
    "#predición usando coeficientes\n",
    "yhat = X.dot(b)\n",
    "print(yhat)"
   ]
  },
  {
   "cell_type": "code",
   "execution_count": 19,
   "metadata": {},
   "outputs": [
    {
     "data": {
      "text/plain": [
       "Text(0.5, 1.0, 'Regresión Lineal Usando QR Decomposition')"
      ]
     },
     "execution_count": 19,
     "metadata": {},
     "output_type": "execute_result"
    },
    {
     "data": {
      "image/png": "[encoded data removed]",
      "text/plain": [
       "<Figure size 864x720 with 1 Axes>"
      ]
     },
     "metadata": {},
     "output_type": "display_data"
    }
   ],
   "source": [
    "plt.scatter(X, y, color='black')\n",
    "plt.plot(X, yhat)\n",
    "plt.gca().set_title(\"Regresión Lineal Usando QR Decomposition\")"
   ]
  },
  {
   "cell_type": "markdown",
   "metadata": {},
   "source": [
    "\n",
    "### Minimos cuadrados via SVD con pseudoinversa\n",
    "\n"
   ]
  },
  {
   "cell_type": "code",
   "execution_count": 22,
   "metadata": {},
   "outputs": [],
   "source": [
    "from numpy.linalg import pinv\n",
    "data = df[[\"QBHits\", 'Sk']].values\n",
    "X, y = data[:,0], data[:,1]\n",
    "X = X.reshape((len(X), 1))"
   ]
  },
  {
   "cell_type": "code",
   "execution_count": 23,
   "metadata": {},
   "outputs": [
    {
     "name": "stdout",
     "output_type": "stream",
     "text": [
      "[0.3857874]\n"
     ]
    }
   ],
   "source": [
    "# Podemos calcular la SVD, luego la pseudoinversa, pero NumPy proporciona la función pinv() \n",
    "# que podemos usar directamente.\n",
    "b = pinv(X).dot(y)\n",
    "print(b)"
   ]
  },
  {
   "cell_type": "code",
   "execution_count": 24,
   "metadata": {},
   "outputs": [
    {
     "name": "stdout",
     "output_type": "stream",
     "text": [
      "[20.44673246 22.37566949 28.54826797 22.76145689 18.13200803 20.44673246\n",
      " 15.8172836  14.65992139 15.4314962  20.83251987 15.4314962  14.65992139\n",
      " 14.65992139 18.13200803 16.20307101 20.83251987 15.8172836  17.74622063\n",
      " 22.76145689 23.91881911 19.28937025 13.50255917 22.76145689 27.39090575\n",
      " 13.50255917 28.54826797 35.49244126 17.36043322 21.60409468 28.16248056\n",
      " 18.13200803 18.13200803]\n"
     ]
    }
   ],
   "source": [
    "# predicion\n",
    "yhat = X.dot(b)\n",
    "print(yhat)"
   ]
  },
  {
   "cell_type": "code",
   "execution_count": 25,
   "metadata": {},
   "outputs": [
    {
     "data": {
      "text/plain": [
       "Text(0.5, 1.0, 'Regresión Lineal Usando SVD con Pseudoinversa')"
      ]
     },
     "execution_count": 25,
     "metadata": {},
     "output_type": "execute_result"
    },
    {
     "data": {
      "image/png": "[encoded data removed]",
      "text/plain": [
       "<Figure size 864x720 with 1 Axes>"
      ]
     },
     "metadata": {},
     "output_type": "display_data"
    }
   ],
   "source": [
    "plt.scatter(X, y, color='black')\n",
    "plt.plot(X, yhat)\n",
    "plt.gca().set_title(\"Regresión Lineal Usando SVD con Pseudoinversa\")"
   ]
  },
  {
   "cell_type": "code",
   "execution_count": null,
   "metadata": {},
   "outputs": [],
   "source": []
  }
 ],
 "metadata": {
  "kernelspec": {
   "display_name": "Python 3",
   "language": "python",
   "name": "python3"
  },
  "language_info": {
   "codemirror_mode": {
    "name": "ipython",
    "version": 3
   },
   "file_extension": ".py",
   "mimetype": "text/x-python",
   "name": "python",
   "nbconvert_exporter": "python",
   "pygments_lexer": "ipython3",
   "version": "3.8.5"
  }
 },
 "nbformat": 4,
 "nbformat_minor": 4
}
